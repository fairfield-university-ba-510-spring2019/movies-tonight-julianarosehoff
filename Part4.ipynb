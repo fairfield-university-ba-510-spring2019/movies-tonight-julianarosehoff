{
 "cells": [
  {
   "cell_type": "markdown",
   "metadata": {},
   "source": [
    "# Movies Tonight Part 4: A few SELECT queries \n",
    "__Use `%%sql` magic to write the queries listed below.__"
   ]
  },
  {
   "cell_type": "code",
   "execution_count": 1,
   "metadata": {
    "collapsed": true
   },
   "outputs": [
    {
     "data": {
      "text/plain": [
       "'Connected: @Movies.db'"
      ]
     },
     "execution_count": 1,
     "metadata": {},
     "output_type": "execute_result"
    }
   ],
   "source": [
    "# load %sql magic extension\n",
    "%load_ext sql\n",
    "\n",
    "# initialize a database connection; may have to adjust username and password \n",
    "%sql sqlite:///Movies.db"
   ]
  },
  {
   "cell_type": "markdown",
   "metadata": {},
   "source": [
    "**1. Write a select query that returns the MovieTitle, TheaterName, and Showtime for each movie showing.**  \n",
    "The query should use `JOIN` syntax as described in your textbook. Also, use aliases ( `… AS …` ) to make sure that column names match exactly what is asked for. "
   ]
  },
  {
   "cell_type": "code",
   "execution_count": 2,
   "metadata": {
    "collapsed": true
   },
   "outputs": [
    {
     "name": "stdout",
     "output_type": "stream",
     "text": [
      " * sqlite:///Movies.db\n",
      "Done.\n"
     ]
    },
    {
     "data": {
      "text/html": [
       "<table>\n",
       "    <tr>\n",
       "        <th>MovieTitle</th>\n",
       "        <th>TheaterName</th>\n",
       "        <th>ShowTime</th>\n",
       "    </tr>\n",
       "</table>"
      ],
      "text/plain": [
       "[]"
      ]
     },
     "execution_count": 2,
     "metadata": {},
     "output_type": "execute_result"
    }
   ],
   "source": [
    "%%sql\n",
    "\n",
    "SELECT MTitle AS MovieTitle, TName AS TheaterName, STime AS ShowTime\n",
    "FROM Movies\n",
    "\tJOIN Show ON (Movies.MID = Show.MID) \n",
    "\tJOIN Theater ON (Show.TID = Theater.TID);"
   ]
  },
  {
   "cell_type": "markdown",
   "metadata": {},
   "source": [
    "**2. Write a select query to display the MovieTitle, TheaterName, and Showtime for each show after 7pm.** You can start with a copy of the previous query and then add a `WHERE` clause. "
   ]
  },
  {
   "cell_type": "code",
   "execution_count": 3,
   "metadata": {
    "collapsed": true
   },
   "outputs": [
    {
     "name": "stdout",
     "output_type": "stream",
     "text": [
      " * sqlite:///Movies.db\n",
      "Done.\n"
     ]
    },
    {
     "data": {
      "text/html": [
       "<table>\n",
       "    <tr>\n",
       "        <th>MovieTitle</th>\n",
       "        <th>TheaterName</th>\n",
       "        <th>ShowTime</th>\n",
       "    </tr>\n",
       "</table>"
      ],
      "text/plain": [
       "[]"
      ]
     },
     "execution_count": 3,
     "metadata": {},
     "output_type": "execute_result"
    }
   ],
   "source": [
    "%%sql\n",
    "\n",
    "SELECT MTitle AS MovieTitle, TName AS TheaterName, STime AS ShowTime\n",
    "FROM Movies\n",
    "\tJOIN Show ON (Movies.MID = Show.MID) \n",
    "\tJOIN Theater ON (Show.TID = Theater.TID)\n",
    "WHERE STime >= '07:00:00 PM' ; "
   ]
  },
  {
   "cell_type": "markdown",
   "metadata": {},
   "source": [
    "**3. Write a select query to display the cast (actors only) of each movie.** The query should return the Movie Title, Actor Name, MID, and AID. "
   ]
  },
  {
   "cell_type": "code",
   "execution_count": 4,
   "metadata": {
    "collapsed": true
   },
   "outputs": [
    {
     "name": "stdout",
     "output_type": "stream",
     "text": [
      " * sqlite:///Movies.db\n",
      "Done.\n"
     ]
    },
    {
     "data": {
      "text/html": [
       "<table>\n",
       "    <tr>\n",
       "        <th>MovieTitle</th>\n",
       "        <th>ActorName</th>\n",
       "        <th>MID</th>\n",
       "        <th>AID</th>\n",
       "    </tr>\n",
       "</table>"
      ],
      "text/plain": [
       "[]"
      ]
     },
     "execution_count": 4,
     "metadata": {},
     "output_type": "execute_result"
    }
   ],
   "source": [
    "%%sql\n",
    "SELECT MTitle AS MovieTitle, Artist.ArtistName AS ActorName, Movies.MID, Artist.AID\n",
    "FROM Movies\n",
    "\tJOIN Credits ON (Movies.MID = Credits.MID)\n",
    "\tJOIN Artist ON (Credits.AID = Artist.AID)\n",
    "WHERE CCODE = \"A\";"
   ]
  },
  {
   "cell_type": "markdown",
   "metadata": {},
   "source": [
    "**4. Write a select query to display the number of distinct movies that each actor appears in.** The query should return the ActorName, MovieCount, and AID. You will need to use use a GROUP BY clause and the COUNT() function. "
   ]
  },
  {
   "cell_type": "code",
   "execution_count": 5,
   "metadata": {
    "collapsed": true
   },
   "outputs": [
    {
     "name": "stdout",
     "output_type": "stream",
     "text": [
      " * sqlite:///Movies.db\n",
      "Done.\n"
     ]
    },
    {
     "data": {
      "text/html": [
       "<table>\n",
       "    <tr>\n",
       "        <th>AID</th>\n",
       "        <th>MovieCount</th>\n",
       "        <th>ArtistName</th>\n",
       "    </tr>\n",
       "</table>"
      ],
      "text/plain": [
       "[]"
      ]
     },
     "execution_count": 5,
     "metadata": {},
     "output_type": "execute_result"
    }
   ],
   "source": [
    "%%sql\n",
    "SELECT AID, COUNT(MID) AS MovieCount, ArtistName\n",
    "FROM \n",
    "    Credits\n",
    "    JOIN Artist USING (AID)\n",
    "WHERE CCode = \"A\"\n",
    "GROUP BY AID, ArtistName\n",
    "HAVING MovieCount >1;"
   ]
  },
  {
   "cell_type": "markdown",
   "metadata": {},
   "source": [
    "**5. Write a select query to display only the actors that appear in multiple movies.** The query should return the Actor Name, Movie Count, and AID. You can use the previous select query as a starting point. You will need to add a HAVING clause to do the restriction. "
   ]
  },
  {
   "cell_type": "code",
   "execution_count": 6,
   "metadata": {
    "collapsed": true
   },
   "outputs": [],
   "source": [
    "# Done Above "
   ]
  },
  {
   "cell_type": "markdown",
   "metadata": {},
   "source": [
    "**6. Write a select query to display directors that also act in their movies.** The query should return the ArtistName, NumDirectorCredits, NumActorCredits, NumDirectorActorCredits. Each count should be calculated separately using a subquery. Note: NumDirectorActorCredits should be greater than 0."
   ]
  },
  {
   "cell_type": "code",
   "execution_count": null,
   "metadata": {
    "collapsed": true
   },
   "outputs": [],
   "source": []
  }
 ],
 "metadata": {
  "kernelspec": {
   "display_name": "Python 3",
   "language": "python",
   "name": "python3"
  },
  "language_info": {
   "codemirror_mode": {
    "name": "ipython",
    "version": 3
   },
   "file_extension": ".py",
   "mimetype": "text/x-python",
   "name": "python",
   "nbconvert_exporter": "python",
   "pygments_lexer": "ipython3",
   "version": "3.6.5"
  }
 },
 "nbformat": 4,
 "nbformat_minor": 2
}
